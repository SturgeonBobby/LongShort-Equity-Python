#!/usr/bin/env python3
# -*- coding: utf-8 -*-
"""
Created on Thu Dec  7 21:57:36 2017

@author: Qing
"""

import matplotlib.pyplot as plt
import numpy as np
import pandas as pd
from pandas_datareader.data import DataReader

tickers = ['JPM', 'BAC', 'WFC', 'C',
           'GS', 'MS',
           'USB', 'PNC', 'BK', 'COF', 'STT', 'BBT', 'STI',
           '^GSPC']
data_source = 'yahoo'
start_date = '2000-01-01'
end_date = '2016-12-31'

panel_data = DataReader(tickers, data_source, start_date, end_date)
all_weekdays = pd.date_range(start=start_date, end=end_date, freq='B')

adj_close = panel_data['Adj Close']
adj_close = adj_close.reindex(all_weekdays)
adj_close = adj_close.fillna(method='ffill')

adj_close = adj_close[['JPM', 'GS', 'USB', '^GSPC']]
#adj_close.describe()

returns = adj_close.pct_change(1)
log_returns = np.log(adj_close).diff()

##fig = plt.figure(figsize=[16,9])
#fig = plt.figure()
#ax = fig.add_subplot(2,1,1)
#
#for c in log_returns:
#    ax.plot(log_returns.index, log_returns[c].cumsum(), label=str(c))
#
#ax.set_ylabel('Cumulative log returns')
#ax.legend(loc='best')
#ax.grid()
#
#ax = fig.add_subplot(2,1,2)
#
#for c in log_returns:
#    ax.plot(log_returns.index, 100*(np.exp(log_returns[c].cumsum()) - 1), label=str(c))
#
#ax.set_ylabel('Total relative returns (%)')
#ax.legend(loc='best')
#ax.grid()
#
#plt.show()

mean_returns = returns.mean()
return_cov = returns.cov()
return_corr = returns.corr()

from bs4 import BeautifulSoup
import requests

r = requests.get('http://www.businessinsider.com/credit-suisse-best-stock-each-sector-2015-12/#business-and-professional-services-41')
soup = BeautifulSoup(r.text)

ticker_list = soup.find_all('p')
storage = []
for elem in ticker_list:
    if 'Ticker:' in elem.text:
        storage.append(elem)
        
my_list = [str(i).split('<strong>')[-1] for i in storage]
my_list = [i.split('<')[0] for i in my_list]

tickers = my_list
tickers.append('^GSPC')
tickers.remove('BEAV')
tickers.remove('PNRA')

data_source = 'yahoo'
start_date = '2016-01-01'
end_date = '2016-12-31'

panel_data = DataReader(tickers, data_source, start_date, end_date)
all_weekdays = pd.date_range(start=start_date, end=end_date, freq='B')

adj_close = panel_data['Adj Close']
adj_close = adj_close.reindex(all_weekdays)
adj_close = adj_close.fillna(method='ffill')

returns = adj_close.pct_change(1)
mean_returns = returns.mean()
return_cov = returns.cov()
return_corr = returns.corr()